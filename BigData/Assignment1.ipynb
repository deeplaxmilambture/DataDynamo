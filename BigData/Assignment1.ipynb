{
  "cells": [
    {
      "cell_type": "code",
      "execution_count": 68,
      "metadata": {
        "id": "_SzTtsGBQgoq"
      },
      "outputs": [],
      "source": [
        "!pip install -q pyspark\n",
        "!wget -q 'https://drive.google.com/uc?export=download&id=1QkrHJxCU7tonEjrQClTn-30vE93Q8fGh' -O 'Sample.txt'\n",
        "\n",
        "\n"
      ]
    },
    {
      "cell_type": "code",
      "execution_count": 72,
      "metadata": {
        "colab": {
          "base_uri": "https://localhost:8080/"
        },
        "id": "tia6q9SpTnXx",
        "outputId": "74c00edd-4a7d-457a-dd31-fd88e8c0b3c8"
      },
      "outputs": [
        {
          "output_type": "stream",
          "name": "stdout",
          "text": [
            "+--------------------+-----+\n",
            "|                Word|Count|\n",
            "+--------------------+-----+\n",
            "|The Project Guten...|    1|\n",
            "|Project Gutenberg...|    2|\n",
            "|This eBook is for...|    2|\n",
            "|eBook is for the ...|    2|\n",
            "|is for the use of...|    2|\n",
            "|use of anyone any...|    2|\n",
            "|anywhere at no co...|    2|\n",
            "|almost no restric...|    2|\n",
            "|no restrictions w...|    2|\n",
            "|whatsoever. You m...|    2|\n",
            "|You may copy it, ...|    2|\n",
            "|it under the term...|    2|\n",
            "|under the terms o...|    2|\n",
            "|this eBook or onl...|    2|\n",
            "|** This is a COPY...|    1|\n",
            "|This is a COPYRIG...|    1|\n",
            "|is a COPYRIGHTED ...|    1|\n",
            "|COPYRIGHTED Proje...|    1|\n",
            "|** Please follow ...|    1|\n",
            "|Please follow the...|    1|\n",
            "+--------------------+-----+\n",
            "only showing top 20 rows\n",
            "\n"
          ]
        }
      ],
      "source": [
        "\n",
        "\n",
        "from pyspark import SparkContext, SparkConf\n",
        "from pyspark.sql import SparkSession\n",
        "from pyspark.sql.window import Window\n",
        "\n",
        "\n",
        "conf = SparkConf().setAppName('SparkWordCount')\n",
        "sc = SparkContext.getOrCreate(conf = conf)\n",
        "\n",
        "sqlContext = SparkSession.builder\\\n",
        "        .master(\"local\")\\\n",
        "        .appName(\"Colab\")\\\n",
        "        .config('spark.ui.port', '4050')\\\n",
        "        .getOrCreate()\n",
        "\n",
        "input_file = sc.textFile('Sample.txt')\n",
        "\n",
        "#Using sliding window algorithm\n",
        "window_size = 6\n",
        "\n",
        "def sliding_window(iterable,window_size):\n",
        "  windows = []                               #list to store the generated window\n",
        "  for i in range(len(iterable) - window_size +  1):\n",
        "    window=[]                               #list to store the current window\n",
        "    for j in range(window_size):\n",
        "      window.append(iterable[i+j])\n",
        "    windows.append(window)\n",
        "  return windows\n",
        "\n",
        "\n",
        "try:\n",
        "  sliding_rdd = input_file.flatMap(lambda line: sliding_window(line.split(),window_size))\n",
        "  keyPairs = sliding_rdd.map(lambda window: (' '.join(window), 1))\n",
        "  countKeys = keyPairs.reduceByKey(lambda a, b: a + b)\n",
        "  countsDF = sqlContext.createDataFrame(countKeys).withColumnRenamed('_1','Word').withColumnRenamed('_2','Count')\n",
        "  countsDF.toPandas().to_csv('counts.csv', index=False)\n",
        "  countsDF.show()\n",
        "except Exception as e:\n",
        "  print(\"AN ERROR OCCURED: \",e)\n",
        "finally:\n",
        "  sc.stop()\n",
        "\n",
        "\n",
        "\n"
      ]
    }
  ],
  "metadata": {
    "colab": {
      "provenance": []
    },
    "kernelspec": {
      "display_name": "Python 3",
      "name": "python3"
    },
    "language_info": {
      "name": "python"
    }
  },
  "nbformat": 4,
  "nbformat_minor": 0
}